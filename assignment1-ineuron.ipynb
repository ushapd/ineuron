{
 "cells": [
  {
   "cell_type": "code",
   "execution_count": null,
   "id": "cbdb9b52",
   "metadata": {},
   "outputs": [],
   "source": [
    "1. In the below elements which of them are values or an expression? eg:- values can be\n",
    "integer or string and expressions will be mathematical operators.\n",
    "\n",
    "ans: *     : mathematical operator\n",
    "    'hello':value\n",
    "    -87.8  :value\n",
    "    -      :mathematical operator\n",
    "    /      :mathematical operator\n",
    "    +      :mathematical operator\n",
    "    6      :value\n",
    "        \n",
    "        \n",
    "     \n",
    "    "
   ]
  },
  {
   "cell_type": "code",
   "execution_count": null,
   "id": "4443d9fb",
   "metadata": {},
   "outputs": [],
   "source": [
    "2. What is the difference between string and variable?\n",
    "ans: String is a sequence of characters,which are uncicode.these are expressed in single quotes(''),double quotes(\"\") and \n",
    "    even triple quotes(\"''\").\n",
    "    eg:\"hello\",'hello'.\n",
    "  where as  variable is the object we create and assign the object to the variable.\n",
    "   eg: a=10..here a is variable and 10 the object/value. we can refer 10 as a."
   ]
  },
  {
   "cell_type": "code",
   "execution_count": null,
   "id": "4d838a1f",
   "metadata": {},
   "outputs": [],
   "source": [
    "3.Describe three different data types.\n",
    "ans: the three different types of data types are \n",
    "     integer: int() which is a data type of a number.\n",
    "            eg: int a = 5\n",
    "     floating-point: float() is a data type which returns the value of a decimal number\n",
    "            eg: float b = 7.5\n",
    "      boolean: bool() is a data type returns the value either True or False/ 0 or 1.\n",
    "        \n",
    "                "
   ]
  },
  {
   "cell_type": "code",
   "execution_count": null,
   "id": "f64ea117",
   "metadata": {},
   "outputs": [],
   "source": [
    "4.What is an expression made up of? What do all expressions do?\n",
    "ans:An expression consists of values and mathematical operators to get an output.\n",
    "    eg: 5+6 is an expression ehich results in 11. here 5 and 6 are  values and + is an operator.\n",
    "        "
   ]
  },
  {
   "cell_type": "code",
   "execution_count": null,
   "id": "d1259505",
   "metadata": {},
   "outputs": [],
   "source": [
    "5.This assignment statements, like spam = 10. What is the difference between an\n",
    "expression and a statement?\n",
    "ans: An expression consists values and operators which gets down toa avalue as output. where as in statement it \n",
    "    maynot produce the outputthe output is based on the assignment we have done.\n",
    "        eg:a=10 here the a is 10 is a statement but if we give \n",
    "        print a ,and output is printed as 10 then stil its a statement.so based on the statement we give its interpreted.\n",
    "      basically an expression we can claim as statemnt but statement cant be an expression.\n"
   ]
  },
  {
   "cell_type": "code",
   "execution_count": 2,
   "id": "d43acc58",
   "metadata": {},
   "outputs": [
    {
     "data": {
      "text/plain": [
       "23"
      ]
     },
     "execution_count": 2,
     "metadata": {},
     "output_type": "execute_result"
    }
   ],
   "source": [
    "6. After running the following code, what does the variable bacon contain?\n",
    "\n",
    "bacon = 22\n",
    "bacon + 1"
   ]
  },
  {
   "cell_type": "code",
   "execution_count": 4,
   "id": "4456a0b8",
   "metadata": {},
   "outputs": [
    {
     "data": {
      "text/plain": [
       "'spamspamspam'"
      ]
     },
     "execution_count": 4,
     "metadata": {},
     "output_type": "execute_result"
    }
   ],
   "source": [
    "7. What should the values of the following two terms be?\n",
    "'spam'+ 'spamspam'\n",
    "'spam' * 3"
   ]
  },
  {
   "cell_type": "code",
   "execution_count": 5,
   "id": "3ddc3495",
   "metadata": {},
   "outputs": [
    {
     "ename": "SyntaxError",
     "evalue": "cannot assign to literal (2223740041.py, line 2)",
     "output_type": "error",
     "traceback": [
      "\u001b[1;36m  Input \u001b[1;32mIn [5]\u001b[1;36m\u001b[0m\n\u001b[1;33m    100=\"hello\"\u001b[0m\n\u001b[1;37m    ^\u001b[0m\n\u001b[1;31mSyntaxError\u001b[0m\u001b[1;31m:\u001b[0m cannot assign to literal\n"
     ]
    }
   ],
   "source": [
    "8. Why is eggs a valid variable name while 100 is invalid?\n",
    "ans: eggs is a valid variable as  the name deffines variable means the one which varies assigned to the object, while 100 is number or \n",
    "    digit and literal which we cant assign ,and  is constant not variable and also assigning \n",
    "    shouldnt start with integer/number.\n"
   ]
  },
  {
   "cell_type": "code",
   "execution_count": null,
   "id": "22467bcf",
   "metadata": {},
   "outputs": [],
   "source": [
    "9.What three functions can be used to get the integer, floating-point number, or string\n",
    "version of a value?\n",
    "ans:int()for integer\n",
    "    float() for floating-point number\n",
    "    string() for string.\n",
    "    these are the three functions to get the value."
   ]
  },
  {
   "cell_type": "code",
   "execution_count": 9,
   "id": "f1b83046",
   "metadata": {},
   "outputs": [
    {
     "data": {
      "text/plain": [
       "' I have eaten 99 burritos'"
      ]
     },
     "execution_count": 9,
     "metadata": {},
     "output_type": "execute_result"
    }
   ],
   "source": [
    "10.Why does this expression cause an error? How can you fix it?'I have eaten' + 99 +'burritos'\n",
    "ans: It gives error as concatination of two data types is not possible in python. Either the two should be in string in the \n",
    "   given statement. so the given expression gives error.the expression should be as follows\n",
    "' I have eaten ' + '99' +' burritos'\n",
    "    "
   ]
  }
 ],
 "metadata": {
  "kernelspec": {
   "display_name": "Python 3 (ipykernel)",
   "language": "python",
   "name": "python3"
  },
  "language_info": {
   "codemirror_mode": {
    "name": "ipython",
    "version": 3
   },
   "file_extension": ".py",
   "mimetype": "text/x-python",
   "name": "python",
   "nbconvert_exporter": "python",
   "pygments_lexer": "ipython3",
   "version": "3.9.12"
  }
 },
 "nbformat": 4,
 "nbformat_minor": 5
}
