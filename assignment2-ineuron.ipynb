{
 "cells": [
  {
   "cell_type": "code",
   "execution_count": null,
   "id": "a550be46",
   "metadata": {},
   "outputs": [],
   "source": [
    "1.What are the two values of the Boolean data type? How do you write them?\n",
    "ans:Two values of boolean data type are True or False.\n",
    "    "
   ]
  },
  {
   "cell_type": "code",
   "execution_count": null,
   "id": "0eceed7d",
   "metadata": {},
   "outputs": [],
   "source": [
    "2. What are the three different types of Boolean operators?\n",
    "ans:Three different types of boolean operators are \n",
    "    and , or , not."
   ]
  },
  {
   "cell_type": "code",
   "execution_count": null,
   "id": "438de544",
   "metadata": {},
   "outputs": [],
   "source": [
    "3.Make a list of each Boolean operator's truth tables (i.e. every possible combination of Boolean\n",
    "values for the operator and what it evaluate ).\n",
    "ans: Boolean operator logical and \n",
    "     True  and True  True\n",
    "     True  and False False   \n",
    "     False and True  True\n",
    "     False and False False   \n",
    "    boolean operator logical or\n",
    "     True  or True  True\n",
    "     True  or False True   \n",
    "     False or True  True\n",
    "     False or False False \n",
    "    boolean operator logical not\n",
    "      True  False \n",
    "      False True  \n",
    "      "
   ]
  },
  {
   "cell_type": "code",
   "execution_count": null,
   "id": "b84b3c29",
   "metadata": {},
   "outputs": [],
   "source": [
    "What are the values of the following expressions?\n",
    "(5 > 4) and (3 == 5)    ans:False\n",
    " \n",
    "not (5 > 4)             ans:False\n",
    "\n",
    "(5 > 4) or (3 == 5)     ans:True\n",
    "\n",
    "not ((5 > 4) or (3 == 5)) ans:False\n",
    "    \n",
    "(True and True) and (True == False) ans: True\n",
    "\n",
    "(not False) or (not True)  ans:True    \n",
    "    \n"
   ]
  },
  {
   "cell_type": "code",
   "execution_count": null,
   "id": "15031dd8",
   "metadata": {},
   "outputs": [],
   "source": [
    "What are the six comparison operators?\n",
    "ans:greaterthan >\n",
    "    greaterthan or equalto >=\n",
    "    lessthan <\n",
    "    lessthan or equalto <=\n",
    "    equalto ==\n",
    "    not equalto !=\n",
    "    \n",
    "    "
   ]
  },
  {
   "cell_type": "code",
   "execution_count": null,
   "id": "ea11b835",
   "metadata": {},
   "outputs": [],
   "source": [
    "6. How do you tell the difference between the equal to and assignment operators?Describe a\n",
    "condition and when you would use one.\n",
    "ans:equal to(==)is used whether the given lhs and rhs are equal or not where as \n",
    "    assignemnt operator(=) is used to assign the value to the variable."
   ]
  },
  {
   "cell_type": "code",
   "execution_count": 4,
   "id": "906e948b",
   "metadata": {},
   "outputs": [
    {
     "name": "stdout",
     "output_type": "stream",
     "text": [
      "ham\n",
      "spam\n",
      "spam\n"
     ]
    }
   ],
   "source": [
    "#Identify the three blocks in this code:\n",
    "spam = 0             #block1\n",
    "if spam == 10:       #block2\n",
    " print(\"eggs\")       \n",
    " if spam > 5:         #block3 \n",
    "  print (\"bacon\")     \n",
    "else:                #closing block of 2\n",
    " print(\"ham\")\n",
    " print(\"spam\")\n",
    " print(\"spam\")"
   ]
  },
  {
   "cell_type": "code",
   "execution_count": 19,
   "id": "683bfcb5",
   "metadata": {},
   "outputs": [
    {
     "name": "stdout",
     "output_type": "stream",
     "text": [
      "enter the num 3\n",
      "greetings\n"
     ]
    }
   ],
   "source": [
    "#8. Write code that prints Hello if 1 is stored in spam, prints Howdy if 2 is stored in spam, and prints\n",
    "#Greetings! if anything else is stored in spam.\n",
    "#ans: \n",
    "spam = int(input(\"enter the num \"))\n",
    "if spam == 1:\n",
    "        print(\"hello\")\n",
    "elif spam == 2:\n",
    "        print(\"howdy\")\n",
    "else:\n",
    "        print(\"greetings\")\n",
    "        "
   ]
  },
  {
   "cell_type": "code",
   "execution_count": null,
   "id": "45de1383",
   "metadata": {},
   "outputs": [],
   "source": [
    "9.If your programme is stuck in an endless loop, what keys you’ll press?\n",
    "ans: ctrl+c"
   ]
  },
  {
   "cell_type": "code",
   "execution_count": null,
   "id": "8c530750",
   "metadata": {},
   "outputs": [],
   "source": [
    "How can you tell the difference between break and continue?\n",
    "ans: break() is used to terminate the loop and start the another loop,\n",
    "    where as continue() will take over the next iteration in the loop."
   ]
  },
  {
   "cell_type": "code",
   "execution_count": 36,
   "id": "4c946049",
   "metadata": {},
   "outputs": [
    {
     "name": "stdout",
     "output_type": "stream",
     "text": [
      "range(0, 10)\n",
      "range(0, 10)\n",
      "range(0, 10)\n"
     ]
    }
   ],
   "source": [
    "#In a for loop, what is the difference between range(10), range(0, 10), and range(0, 10, 1)?\n",
    "#ans: \n",
    "a = range(10)\n",
    "print(a) \n",
    "b = range(0,10)\n",
    "print(b)\n",
    "c = range(0,10,1)    \n",
    "print(c)"
   ]
  },
  {
   "cell_type": "code",
   "execution_count": 51,
   "id": "577075e9",
   "metadata": {},
   "outputs": [
    {
     "name": "stdout",
     "output_type": "stream",
     "text": [
      "1\n",
      "2\n",
      "3\n",
      "4\n",
      "5\n",
      "6\n",
      "7\n",
      "8\n",
      "9\n",
      "10\n"
     ]
    }
   ],
   "source": [
    "#12. Write a short program that prints the numbers 1 to 10 using a for loop. Then write an equivalent\n",
    "#program that prints the numbers 1 to 10 using a while loop.\n",
    "\n",
    "#using for loop\n",
    " \n",
    "for i in range(0,11):\n",
    "  if i ==0:\n",
    "    continue\n",
    "  else:\n",
    "    print(i)\n",
    "    "
   ]
  },
  {
   "cell_type": "code",
   "execution_count": 55,
   "id": "dd4a62c9",
   "metadata": {},
   "outputs": [
    {
     "name": "stdout",
     "output_type": "stream",
     "text": [
      "1\n",
      "2\n",
      "3\n",
      "4\n",
      "5\n",
      "6\n",
      "7\n",
      "8\n",
      "9\n",
      "10\n"
     ]
    }
   ],
   "source": [
    "#using while loop\n",
    "i=1\n",
    "while i <= 10:\n",
    "   print(i)\n",
    "   i = i+1 \n",
    "   "
   ]
  },
  {
   "cell_type": "code",
   "execution_count": null,
   "id": "71a1c71d",
   "metadata": {},
   "outputs": [],
   "source": [
    "13. If you had a function named bacon() inside a module named spam, how would you call it after\n",
    "importing spam?\n",
    "ans:spam.bacon()\n",
    "\n"
   ]
  }
 ],
 "metadata": {
  "kernelspec": {
   "display_name": "Python 3 (ipykernel)",
   "language": "python",
   "name": "python3"
  },
  "language_info": {
   "codemirror_mode": {
    "name": "ipython",
    "version": 3
   },
   "file_extension": ".py",
   "mimetype": "text/x-python",
   "name": "python",
   "nbconvert_exporter": "python",
   "pygments_lexer": "ipython3",
   "version": "3.9.12"
  }
 },
 "nbformat": 4,
 "nbformat_minor": 5
}
